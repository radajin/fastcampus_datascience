{
 "cells": [
  {
   "cell_type": "code",
   "execution_count": 1,
   "metadata": {
    "collapsed": true,
    "deletable": true,
    "editable": true
   },
   "outputs": [],
   "source": [
    "import numpy as np\n",
    "import pandas as pd\n",
    "import random \n",
    "\n",
    "from sklearn.model_selection import train_test_split\n",
    "from sklearn.tree import DecisionTreeClassifier\n",
    "from sklearn.metrics import confusion_matrix\n",
    "from sklearn.metrics import accuracy_score\n",
    "from sklearn.metrics import classification_report\n",
    "\n",
    "from sklearn.preprocessing import OneHotEncoder\n",
    "from sklearn.preprocessing import LabelEncoder"
   ]
  },
  {
   "cell_type": "code",
   "execution_count": 2,
   "metadata": {
    "collapsed": false,
    "deletable": true,
    "editable": true
   },
   "outputs": [],
   "source": [
    "def makeData(columns, datas, count):\n",
    "    df = pd.DataFrame(columns = columns)\n",
    "    for _ in range(count):\n",
    "        df.loc[len(df)] = {\n",
    "            'week': datas['week'][random.randint(0, 4)],\n",
    "            'weather': datas['weather'][random.randint(0, 2)],\n",
    "            'temperate': random.randint(5, 35),\n",
    "            'restorant': datas['restorant'][random.randint(0, 4)],\n",
    "            'result': datas['result'][random.randint(0, 1)],\n",
    "        }\n",
    "    return df"
   ]
  },
  {
   "cell_type": "code",
   "execution_count": 3,
   "metadata": {
    "collapsed": false,
    "deletable": true,
    "editable": true
   },
   "outputs": [],
   "source": [
    "columns = ['week','weather','temperate','restorant','result']\n",
    "count = 200\n",
    "datas = {\n",
    "    'week': ['월','화','수','목','금'],\n",
    "    'weather': ['맑음','흐림','비'],\n",
    "    'restorant': ['칼국수','대구탕','햄버거','김치찌개','냉면'],\n",
    "    'result': ['만족','불만족'],\n",
    "}\n",
    "data_df = makeData(columns, datas, count)"
   ]
  },
  {
   "cell_type": "code",
   "execution_count": 4,
   "metadata": {
    "collapsed": false,
    "deletable": true,
    "editable": true
   },
   "outputs": [],
   "source": [
    "# select columns\n",
    "feature_names = ['week','weather','temperate','restorant']\n",
    "target_name = [\"result\"]\n",
    "data_df = data_df[feature_names + target_name].reset_index(drop=True)\n",
    "\n",
    "# remove Nan data\n",
    "data_df.dropna(axis=0, how=\"any\", inplace=True)\n",
    "\n",
    "# split feature & target\n",
    "dfX = data_df[feature_names].reset_index(drop=True)\n",
    "dfy = data_df[target_name]"
   ]
  },
  {
   "cell_type": "code",
   "execution_count": 5,
   "metadata": {
    "collapsed": false,
    "deletable": true,
    "editable": true
   },
   "outputs": [],
   "source": [
    "# LabelEncoder\n",
    "label_list = ['week','weather','restorant']\n",
    "for label in label_list:\n",
    "    dfX[label] = LabelEncoder().fit_transform(dfX[label])"
   ]
  },
  {
   "cell_type": "code",
   "execution_count": 6,
   "metadata": {
    "collapsed": false,
    "deletable": true,
    "editable": true
   },
   "outputs": [],
   "source": [
    "# OneHotEncoding\n",
    "onehot_list = ['week','weather','restorant']\n",
    "for onehot in onehot_list:\n",
    "    column_list = []\n",
    "    count = len(data_df[onehot].unique())\n",
    "    for idx in range(count):\n",
    "        column_list.append(onehot + \"_\" + str(idx))\n",
    "    dfX2 = pd.DataFrame(OneHotEncoder().fit_transform(dfX[onehot].as_matrix()[:,np.newaxis]).toarray(), \n",
    "            columns=column_list, index=dfX.index)\n",
    "    dfX = pd.concat([dfX, dfX2], axis=1)\n",
    "    del(dfX[onehot])"
   ]
  },
  {
   "cell_type": "code",
   "execution_count": 7,
   "metadata": {
    "collapsed": true,
    "deletable": true,
    "editable": true
   },
   "outputs": [],
   "source": [
    "X_train, X_test, y_train, y_test = train_test_split(dfX, dfy, test_size=0.2, random_state=1)\n",
    "model = DecisionTreeClassifier(criterion='entropy', max_depth=14, min_samples_leaf=10).fit(X_train, y_train)"
   ]
  },
  {
   "cell_type": "code",
   "execution_count": 8,
   "metadata": {
    "collapsed": false,
    "deletable": true,
    "editable": true
   },
   "outputs": [
    {
     "name": "stdout",
     "output_type": "stream",
     "text": [
      "accuracy score : 0.45\n",
      "[[ 9  8]\n",
      " [14  9]]\n",
      "             precision    recall  f1-score   support\n",
      "\n",
      "         만족       0.39      0.53      0.45        17\n",
      "        불만족       0.53      0.39      0.45        23\n",
      "\n",
      "avg / total       0.47      0.45      0.45        40\n",
      "\n"
     ]
    }
   ],
   "source": [
    "print(\"accuracy score : {}\".format(accuracy_score(y_test, model.predict(X_test))))\n",
    "print(confusion_matrix(y_test, model.predict(X_test)))\n",
    "print(classification_report(y_test, model.predict(X_test)))"
   ]
  }
 ],
 "metadata": {
  "kernelspec": {
   "display_name": "Python 3",
   "language": "python",
   "name": "python3"
  },
  "language_info": {
   "codemirror_mode": {
    "name": "ipython",
    "version": 3
   },
   "file_extension": ".py",
   "mimetype": "text/x-python",
   "name": "python",
   "nbconvert_exporter": "python",
   "pygments_lexer": "ipython3",
   "version": "3.6.0"
  }
 },
 "nbformat": 4,
 "nbformat_minor": 2
}
