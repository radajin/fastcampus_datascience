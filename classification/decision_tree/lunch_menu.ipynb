{
 "cells": [
  {
   "cell_type": "code",
   "execution_count": 38,
   "metadata": {
    "collapsed": true,
    "deletable": true,
    "editable": true
   },
   "outputs": [],
   "source": [
    "import numpy as np\n",
    "import pandas as pd\n",
    "import random \n",
    "\n",
    "from sklearn.model_selection import train_test_split\n",
    "from sklearn.tree import DecisionTreeClassifier\n",
    "from sklearn.metrics import confusion_matrix\n",
    "from sklearn.metrics import accuracy_score\n",
    "from sklearn.metrics import classification_report\n",
    "\n",
    "from sklearn.preprocessing import OneHotEncoder\n",
    "from sklearn.preprocessing import LabelEncoder"
   ]
  },
  {
   "cell_type": "code",
   "execution_count": 39,
   "metadata": {
    "collapsed": false,
    "deletable": true,
    "editable": true
   },
   "outputs": [
    {
     "data": {
      "text/html": [
       "<div>\n",
       "<table border=\"1\" class=\"dataframe\">\n",
       "  <thead>\n",
       "    <tr style=\"text-align: right;\">\n",
       "      <th></th>\n",
       "      <th>weather</th>\n",
       "      <th>week</th>\n",
       "      <th>temperate</th>\n",
       "      <th>menu</th>\n",
       "      <th>result</th>\n",
       "    </tr>\n",
       "  </thead>\n",
       "  <tbody>\n",
       "    <tr>\n",
       "      <th>203</th>\n",
       "      <td>눈</td>\n",
       "      <td>금</td>\n",
       "      <td>2</td>\n",
       "      <td>한식</td>\n",
       "      <td>0</td>\n",
       "    </tr>\n",
       "    <tr>\n",
       "      <th>204</th>\n",
       "      <td>눈</td>\n",
       "      <td>월</td>\n",
       "      <td>1</td>\n",
       "      <td>냉면</td>\n",
       "      <td>0</td>\n",
       "    </tr>\n",
       "    <tr>\n",
       "      <th>205</th>\n",
       "      <td>눈</td>\n",
       "      <td>화</td>\n",
       "      <td>2</td>\n",
       "      <td>칼국수</td>\n",
       "      <td>1</td>\n",
       "    </tr>\n",
       "    <tr>\n",
       "      <th>206</th>\n",
       "      <td>눈</td>\n",
       "      <td>수</td>\n",
       "      <td>3</td>\n",
       "      <td>햄버거</td>\n",
       "      <td>1</td>\n",
       "    </tr>\n",
       "    <tr>\n",
       "      <th>207</th>\n",
       "      <td>눈</td>\n",
       "      <td>목</td>\n",
       "      <td>1</td>\n",
       "      <td>한식</td>\n",
       "      <td>1</td>\n",
       "    </tr>\n",
       "  </tbody>\n",
       "</table>\n",
       "</div>"
      ],
      "text/plain": [
       "    weather week  temperate menu  result\n",
       "203       눈    금          2   한식       0\n",
       "204       눈    월          1   냉면       0\n",
       "205       눈    화          2  칼국수       1\n",
       "206       눈    수          3  햄버거       1\n",
       "207       눈    목          1   한식       1"
      ]
     },
     "execution_count": 39,
     "metadata": {},
     "output_type": "execute_result"
    }
   ],
   "source": [
    "# Get Data (1: satisfaction, 0: unsatisfaction)\n",
    "df = pd.read_csv('lunch_menu.csv')\n",
    "df.tail()"
   ]
  },
  {
   "cell_type": "code",
   "execution_count": 40,
   "metadata": {
    "collapsed": false,
    "deletable": true,
    "editable": true
   },
   "outputs": [],
   "source": [
    "# select columns\n",
    "feature_names = ['temperate', 'weather', 'menu']\n",
    "target_name = [\"result\"]\n",
    "df = df[feature_names + target_name].reset_index(drop=True)\n",
    "\n",
    "# remove Nan data\n",
    "df.dropna(axis=0, how=\"any\", inplace=True)\n",
    "\n",
    "# split feature & target\n",
    "dfX = df[feature_names].reset_index(drop=True)\n",
    "dfy = df[target_name]"
   ]
  },
  {
   "cell_type": "code",
   "execution_count": 41,
   "metadata": {
    "collapsed": false,
    "deletable": true,
    "editable": true
   },
   "outputs": [],
   "source": [
    "# LabelEncoder\n",
    "label_list = ['weather', 'menu']\n",
    "for label in label_list:\n",
    "    dfX[label] = LabelEncoder().fit_transform(dfX[label])"
   ]
  },
  {
   "cell_type": "code",
   "execution_count": 42,
   "metadata": {
    "collapsed": false,
    "deletable": true,
    "editable": true
   },
   "outputs": [],
   "source": [
    "# OneHotEncoding\n",
    "onehot_list = ['weather', 'menu']\n",
    "for onehot in onehot_list:\n",
    "    column_list = []\n",
    "    count = len(df[onehot].unique())\n",
    "    for idx in range(count):\n",
    "        column_list.append(onehot + \"_\" + str(idx))\n",
    "    dfX2 = pd.DataFrame(OneHotEncoder().fit_transform(dfX[onehot].as_matrix()[:,np.newaxis]).toarray(), \n",
    "            columns=column_list, index=dfX.index)\n",
    "    dfX = pd.concat([dfX, dfX2], axis=1)\n",
    "    del(dfX[onehot])"
   ]
  },
  {
   "cell_type": "code",
   "execution_count": 43,
   "metadata": {
    "collapsed": true,
    "deletable": true,
    "editable": true
   },
   "outputs": [],
   "source": [
    "X_train, X_test, y_train, y_test = train_test_split(dfX, dfy, test_size=0.3, random_state=1)\n",
    "model = DecisionTreeClassifier(criterion='entropy', max_depth=5, min_samples_leaf=3).fit(X_train, y_train)"
   ]
  },
  {
   "cell_type": "code",
   "execution_count": 44,
   "metadata": {
    "collapsed": false,
    "deletable": true,
    "editable": true
   },
   "outputs": [
    {
     "name": "stdout",
     "output_type": "stream",
     "text": [
      "accuracy score : 0.7301587301587301\n",
      "[[21 14]\n",
      " [ 3 25]]\n",
      "             precision    recall  f1-score   support\n",
      "\n",
      "          0       0.88      0.60      0.71        35\n",
      "          1       0.64      0.89      0.75        28\n",
      "\n",
      "avg / total       0.77      0.73      0.73        63\n",
      "\n"
     ]
    }
   ],
   "source": [
    "print(\"accuracy score : {}\".format(accuracy_score(y_test, model.predict(X_test))))\n",
    "print(confusion_matrix(y_test, model.predict(X_test)))\n",
    "print(classification_report(y_test, model.predict(X_test)))"
   ]
  },
  {
   "cell_type": "code",
   "execution_count": 45,
   "metadata": {
    "collapsed": false,
    "deletable": true,
    "editable": true
   },
   "outputs": [],
   "source": [
    "def inputEncoding(data):\n",
    "    ck = columKeywords(label_list)\n",
    "    result = []\n",
    "    for idx, feature in enumerate(feature_names):\n",
    "        if feature in ck:\n",
    "            for value in ck[feature]:\n",
    "                if value == data[idx]:\n",
    "                    result.append(1)\n",
    "                else:\n",
    "                    result.append(0)\n",
    "        else:\n",
    "            result.append(data[idx])\n",
    "    return result\n",
    "\n",
    "def getKeywords(keyword):\n",
    "    count = len(df[keyword].unique())\n",
    "    keyword_list = []\n",
    "    for idx in range(count):\n",
    "        column = keyword + \"_\" + str(idx)\n",
    "        value = df[dfX[column]==1][keyword].unique()[0]\n",
    "        keyword_list.append(value)\n",
    "    return keyword_list\n",
    "\n",
    "def columKeywords(label_list):\n",
    "    keywords_list = {}\n",
    "    for label in label_list:\n",
    "        keywords_list[label] = getKeywords(label)\n",
    "    return keywords_list"
   ]
  },
  {
   "cell_type": "code",
   "execution_count": 46,
   "metadata": {
    "collapsed": true,
    "deletable": true,
    "editable": true
   },
   "outputs": [],
   "source": [
    "result_keywords = {1:'만족', 0:'불만족'}\n",
    "def pridict(data):\n",
    "    predict_result = np.array(data).reshape(1, -1)\n",
    "    print(\"불만족할 확률 : {}\".format(model.predict_proba(predict_result)[0][0]))\n",
    "    print(\"만족할 확률 : {}\".format(model.predict_proba(predict_result)[0][1]))\n",
    "    print(\"결론 : {}\".format(result_keywords[model.predict(predict_result)[0]]))\n",
    "    return(model.predict_proba(predict_result)[0][0], model.predict_proba(predict_result)[0][1])"
   ]
  },
  {
   "cell_type": "code",
   "execution_count": 47,
   "metadata": {
    "collapsed": false,
    "deletable": true,
    "editable": true
   },
   "outputs": [
    {
     "name": "stdout",
     "output_type": "stream",
     "text": [
      "불만족할 확률 : 0.23809523809523808\n",
      "만족할 확률 : 0.7619047619047619\n",
      "결론 : 만족\n"
     ]
    },
    {
     "data": {
      "text/plain": [
       "(0.23809523809523808, 0.76190476190476186)"
      ]
     },
     "execution_count": 47,
     "metadata": {},
     "output_type": "execute_result"
    }
   ],
   "source": [
    "# weather : 맑음, 흐림, 비, 눈\n",
    "# menu : 냉면, 칼국수, 햄버거, 한식\n",
    "data = [10, '맑음', '한식']\n",
    "pridict(inputEncoding(data))"
   ]
  },
  {
   "cell_type": "code",
   "execution_count": 62,
   "metadata": {
    "collapsed": false,
    "deletable": true,
    "editable": true
   },
   "outputs": [],
   "source": [
    "# choice menu\n",
    "def choiceMenu(data, choice):\n",
    "    choice_list = df[choice].unique()\n",
    "    menu = \"\"\n",
    "    start_prob = -1\n",
    "    for choice_str in choice_list:\n",
    "        print(choice_str)\n",
    "        data[feature_names.index(choice)] = choice_str\n",
    "        prob = pridict(inputEncoding(data))\n",
    "        if start_prob < prob[1]:\n",
    "            menu = choice_str\n",
    "            start_prob = prob[1]\n",
    "        elif start_prob == prob[1]:\n",
    "            menu += \", \"+choice_str\n",
    "        print()\n",
    "    if choice == 'menu':\n",
    "        print(\"{} 드세요.\".format(menu))\n",
    "    if choice == 'weather':\n",
    "        if start_prob == 0:\n",
    "            print(\"먹지 마세요.\")\n",
    "        else:\n",
    "            print(\"{}날 드세요.\".format(menu))"
   ]
  },
  {
   "cell_type": "code",
   "execution_count": 63,
   "metadata": {
    "collapsed": false,
    "deletable": true,
    "editable": true
   },
   "outputs": [
    {
     "name": "stdout",
     "output_type": "stream",
     "text": [
      "냉면\n",
      "불만족할 확률 : 0.0\n",
      "만족할 확률 : 1.0\n",
      "결론 : 만족\n",
      "\n",
      "칼국수\n",
      "불만족할 확률 : 1.0\n",
      "만족할 확률 : 0.0\n",
      "결론 : 불만족\n",
      "\n",
      "햄버거\n",
      "불만족할 확률 : 0.3333333333333333\n",
      "만족할 확률 : 0.6666666666666666\n",
      "결론 : 만족\n",
      "\n",
      "한식\n",
      "불만족할 확률 : 0.8333333333333334\n",
      "만족할 확률 : 0.16666666666666666\n",
      "결론 : 불만족\n",
      "\n",
      "냉면 드세요.\n"
     ]
    }
   ],
   "source": [
    "data = [35, '흐림', '']\n",
    "choiceMenu(data, 'menu')"
   ]
  },
  {
   "cell_type": "code",
   "execution_count": 73,
   "metadata": {
    "collapsed": false,
    "deletable": true,
    "editable": true
   },
   "outputs": [
    {
     "name": "stdout",
     "output_type": "stream",
     "text": [
      "맑음\n",
      "불만족할 확률 : 0.25\n",
      "만족할 확률 : 0.75\n",
      "결론 : 만족\n",
      "\n",
      "흐림\n",
      "불만족할 확률 : 0.3333333333333333\n",
      "만족할 확률 : 0.6666666666666666\n",
      "결론 : 만족\n",
      "\n",
      "비\n",
      "불만족할 확률 : 0.3333333333333333\n",
      "만족할 확률 : 0.6666666666666666\n",
      "결론 : 만족\n",
      "\n",
      "눈\n",
      "불만족할 확률 : 0.3333333333333333\n",
      "만족할 확률 : 0.6666666666666666\n",
      "결론 : 만족\n",
      "\n",
      "맑음날 드세요.\n"
     ]
    }
   ],
   "source": [
    "data = [30, '', '햄버거']\n",
    "choiceMenu(data, 'weather')"
   ]
  },
  {
   "cell_type": "code",
   "execution_count": null,
   "metadata": {
    "collapsed": true
   },
   "outputs": [],
   "source": []
  }
 ],
 "metadata": {
  "kernelspec": {
   "display_name": "Python 3",
   "language": "python",
   "name": "python3"
  },
  "language_info": {
   "codemirror_mode": {
    "name": "ipython",
    "version": 3
   },
   "file_extension": ".py",
   "mimetype": "text/x-python",
   "name": "python",
   "nbconvert_exporter": "python",
   "pygments_lexer": "ipython3",
   "version": "3.6.0"
  }
 },
 "nbformat": 4,
 "nbformat_minor": 2
}
